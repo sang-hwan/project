{
 "cells": [
  {
   "cell_type": "code",
   "execution_count": 7,
   "metadata": {},
   "outputs": [
    {
     "name": "stdout",
     "output_type": "stream",
     "text": [
      "Collecting matplotlib\n",
      "  Downloading matplotlib-3.4.3-cp39-cp39-win_amd64.whl (7.1 MB)\n",
      "Collecting pillow>=6.2.0\n",
      "  Downloading Pillow-8.4.0-cp39-cp39-win_amd64.whl (3.2 MB)\n",
      "Requirement already satisfied: python-dateutil>=2.7 in c:\\users\\user\\appdata\\local\\programs\\python\\python39\\lib\\site-packages (from matplotlib) (2.8.2)\n",
      "Collecting pyparsing>=2.2.1\n",
      "  Using cached pyparsing-2.4.7-py2.py3-none-any.whl (67 kB)\n",
      "Requirement already satisfied: numpy>=1.16 in c:\\users\\user\\appdata\\local\\programs\\python\\python39\\lib\\site-packages (from matplotlib) (1.21.2)\n",
      "Collecting kiwisolver>=1.0.1\n",
      "  Downloading kiwisolver-1.3.2-cp39-cp39-win_amd64.whl (52 kB)\n",
      "Collecting cycler>=0.10\n",
      "  Using cached cycler-0.10.0-py2.py3-none-any.whl (6.5 kB)\n",
      "Requirement already satisfied: six in c:\\users\\user\\appdata\\local\\programs\\python\\python39\\lib\\site-packages (from cycler>=0.10->matplotlib) (1.16.0)\n",
      "Installing collected packages: pyparsing, pillow, kiwisolver, cycler, matplotlib\n",
      "Successfully installed cycler-0.10.0 kiwisolver-1.3.2 matplotlib-3.4.3 pillow-8.4.0 pyparsing-2.4.7\n"
     ]
    },
    {
     "name": "stderr",
     "output_type": "stream",
     "text": [
      "WARNING: You are using pip version 21.1.1; however, version 21.3 is available.\n",
      "You should consider upgrading via the 'C:\\Users\\user\\AppData\\Local\\Programs\\Python\\Python39\\python.exe -m pip install --upgrade pip' command.\n"
     ]
    }
   ],
   "source": [
    "import sys\n",
    "!{sys.executable} -m pip install matplotlib"
   ]
  },
  {
   "cell_type": "code",
   "execution_count": 1,
   "metadata": {},
   "outputs": [],
   "source": [
    "import pandas as pd\n",
    "import matplotlib.pyplot as plt\n",
    "import numpy as np"
   ]
  },
  {
   "cell_type": "code",
   "execution_count": 10,
   "metadata": {},
   "outputs": [
    {
     "name": "stdout",
     "output_type": "stream",
     "text": [
      "[2012, 2013, 2014, 2015, 2016, 2017, 2018, 2019, 2020, 2021]\n",
      "[184363520.0, 166360436.5079365, 172480476.19047618, 174085793.65079364, 165609365.07936507, 154655338.64541832, 187818446.21513945, 174981349.2063492, 219400158.1027668, 187564029.85074627]\n"
     ]
    },
    {
     "data": {
      "image/png": "[encoded data removed]",
      "text/plain": [
       "<Figure size 432x288 with 1 Axes>"
      ]
     },
     "metadata": {
      "needs_background": "light"
     },
     "output_type": "display_data"
    }
   ],
   "source": [
    "df = pd.read_csv('E:/1-2/아이디어/증권사별 비교를 통한 투자효과 극대화 방법/stock history data/나스닥 100(1985-2021).csv')\n",
    "x = df['날짜'].values\n",
    "y = df['거래량'].values\n",
    "index=[]\n",
    "\n",
    "for i in range(len(y)):\n",
    "    if y[i]=='-':\n",
    "        index.append(i)\n",
    "y=np.delete(y,index,axis=0)\n",
    "x=np.delete(x,index,axis=0)\n",
    "\n",
    "for i in range(len(y)):\n",
    "    if y[i][-1]=='M':\n",
    "        y[i]=float(y[i][:-1])*1000000\n",
    "    elif y[i][-1]=='B':\n",
    "        y[i]=float(y[i][:-1])*1000000000\n",
    "\n",
    "# print(x, y)\n",
    "# df_xy = pd.DataFrame(np.transpose([x,y]), columns=['날짜', '거래량'])\n",
    "# df_xy.to_csv(\"E:/1-2/아이디어/증권사별 비교를 통한 투자효과 극대화 방법/stock history data/나스닥100(1).csv\", index=False, encoding=\"cp949\")\n",
    "\n",
    "index_average=[]\n",
    "index_year=[]\n",
    "for j in range(2012, 2022):\n",
    "\n",
    "    index_date=[]\n",
    "    for i in range(len(x)):\n",
    "        if x[i].find(str(j))!=-1:\n",
    "            index_date.append(i)\n",
    "\n",
    "    sum_date = 0\n",
    "    average_date = 0\n",
    "    for i in index_date:\n",
    "        sum_date += y[i]\n",
    "        average_date = sum_date/len(index_date)\n",
    "\n",
    "    index_year.append(j)\n",
    "    index_average.append(average_date)\n",
    "\n",
    "print(index_year)\n",
    "print(index_average)\n",
    "\n",
    "plt.plot(index_year, index_average)\n",
    "plt.xticks(rotation=45)\n",
    "plt.show()"
   ]
  },
  {
   "cell_type": "code",
   "execution_count": 9,
   "metadata": {},
   "outputs": [
    {
     "name": "stdout",
     "output_type": "stream",
     "text": [
      "[2012, 2013, 2014, 2015, 2016, 2017, 2018, 2019, 2020, 2021]\n",
      "[430183240.0, 414463492.06349206, 490736507.93650794, 459697817.46031743, 451856944.4444444, 463724143.4262948, 553677968.12749, 557102896.8253968, 924033003.9525691, 1045226567.1641791]\n"
     ]
    },
    {
     "data": {
      "image/png": "[encoded data removed]",
      "text/plain": [
       "<Figure size 432x288 with 1 Axes>"
      ]
     },
     "metadata": {
      "needs_background": "light"
     },
     "output_type": "display_data"
    }
   ],
   "source": [
    "df = pd.read_csv('E:/1-2/아이디어/증권사별 비교를 통한 투자효과 극대화 방법/stock history data/나스닥종합지수(1980-2021).csv')\n",
    "x = df['날짜'].values\n",
    "y = df['거래량'].values\n",
    "index=[]\n",
    "\n",
    "for i in range(len(y)):\n",
    "    if y[i]=='-':\n",
    "        index.append(i)\n",
    "y=np.delete(y,index,axis=0)\n",
    "x=np.delete(x,index,axis=0)\n",
    "\n",
    "for i in range(len(y)):\n",
    "    if y[i][-1]=='M':\n",
    "        y[i]=float(y[i][:-1])*1000000\n",
    "    elif y[i][-1]=='B':\n",
    "        y[i]=float(y[i][:-1])*1000000000\n",
    "\n",
    "# print(x, y)\n",
    "# df_xy = pd.DataFrame(np.transpose([x,y]), columns=['날짜', '거래량'])\n",
    "# df_xy.to_csv(\"E:/1-2/아이디어/증권사별 비교를 통한 투자효과 극대화 방법/stock history data/나스닥100(1).csv\", index=False, encoding=\"cp949\")\n",
    "\n",
    "index_average=[]\n",
    "index_year=[]\n",
    "for j in range(2012, 2022):\n",
    "\n",
    "    index_date=[]\n",
    "    for i in range(len(x)):\n",
    "        if x[i].find(str(j))!=-1:\n",
    "            index_date.append(i)\n",
    "\n",
    "    sum_date = 0\n",
    "    average_date = 0\n",
    "    for i in index_date:\n",
    "        sum_date += y[i]\n",
    "        average_date = sum_date/len(index_date)\n",
    "\n",
    "    index_year.append(j)\n",
    "    index_average.append(average_date)\n",
    "\n",
    "print(index_year)\n",
    "print(index_average)\n",
    "\n",
    "plt.plot(index_year, index_average)\n",
    "plt.xticks(rotation=45)\n",
    "plt.show()"
   ]
  },
  {
   "cell_type": "code",
   "execution_count": 8,
   "metadata": {},
   "outputs": [
    {
     "name": "stdout",
     "output_type": "stream",
     "text": [
      "[2012, 2013, 2014, 2015, 2016, 2017, 2018, 2019, 2020, 2021]\n",
      "[486464798.38709676, 327002428.3467742, 278082408.1632653, 455248387.0967742, 376772276.42276424, 340456954.73251027, 397971762.295082, 470733739.83739835, 895356774.1935484, 1152606912.2842638]\n"
     ]
    },
    {
     "data": {
      "image/png": "[encoded data removed]",
      "text/plain": [
       "<Figure size 432x288 with 1 Axes>"
      ]
     },
     "metadata": {
      "needs_background": "light"
     },
     "output_type": "display_data"
    }
   ],
   "source": [
    "df = pd.read_csv('E:/1-2/아이디어/증권사별 비교를 통한 투자효과 극대화 방법/stock history data/코스피지수(1981-2021).csv')\n",
    "x = df['날짜'].values\n",
    "y = df['거래량'].values\n",
    "index=[]\n",
    "\n",
    "for i in range(len(y)):\n",
    "    if y[i]=='-':\n",
    "        index.append(i)\n",
    "y=np.delete(y,index,axis=0)\n",
    "x=np.delete(x,index,axis=0)\n",
    "\n",
    "for i in range(len(y)):\n",
    "    if y[i][-1]=='M':\n",
    "        y[i]=float(y[i][:-1])*1000000\n",
    "    elif y[i][-1]=='B':\n",
    "        y[i]=float(y[i][:-1])*1000000000\n",
    "    elif y[i][-1]=='K':\n",
    "        y[i]=float(y[i][:-1])*1000\n",
    "    \n",
    "\n",
    "# print(x, y)\n",
    "# df_xy = pd.DataFrame(np.transpose([x,y]), columns=['날짜', '거래량'])\n",
    "# df_xy.to_csv(\"E:/1-2/아이디어/증권사별 비교를 통한 투자효과 극대화 방법/stock history data/나스닥100(1).csv\", index=False, encoding=\"cp949\")\n",
    "\n",
    "index_average=[]\n",
    "index_year=[]\n",
    "for j in range(2012, 2022):\n",
    "\n",
    "    index_date=[]\n",
    "    for i in range(len(x)):\n",
    "        if x[i].find(str(j))!=-1:\n",
    "            index_date.append(i)\n",
    "\n",
    "    sum_date = 0\n",
    "    average_date = 0\n",
    "    for i in index_date:\n",
    "        sum_date += y[i]\n",
    "        average_date = sum_date/len(index_date)\n",
    "\n",
    "    index_year.append(j)\n",
    "    index_average.append(average_date)\n",
    "\n",
    "print(index_year)\n",
    "print(index_average)\n",
    "\n",
    "plt.plot(index_year, index_average)\n",
    "plt.xticks(rotation=45)\n",
    "plt.show()"
   ]
  },
  {
   "cell_type": "code",
   "execution_count": 13,
   "metadata": {},
   "outputs": [
    {
     "name": "stdout",
     "output_type": "stream",
     "text": [
      "[2010, 2011, 2012, 2013, 2014, 2015, 2016, 2017, 2018, 2019, 2020]\n",
      "[15965.748502994013, 37676.685236768804, 55270.983606557376, 49334.356164383564, 12088.191780821919, 75564.32876712328, 53559.42622950819, 102572.38356164383, 946863.698630137, 981293.8630136986, 849852.131147541]\n"
     ]
    },
    {
     "data": {
      "image/png": "[encoded data removed]",
      "text/plain": [
       "<Figure size 432x288 with 1 Axes>"
      ]
     },
     "metadata": {
      "needs_background": "light"
     },
     "output_type": "display_data"
    }
   ],
   "source": [
    "df = pd.read_csv('E:/1-2/아이디어/증권사별 비교를 통한 투자효과 극대화 방법/cryptocurrency data/Bitcoin - 비트코인 과거 데이터 - Investing.com.csv')\n",
    "x = df['날짜'].values\n",
    "y = df['거래량'].values\n",
    "index=[]\n",
    "\n",
    "for i in range(len(y)):\n",
    "    if y[i]=='-':\n",
    "        index.append(i)\n",
    "y=np.delete(y,index,axis=0)\n",
    "x=np.delete(x,index,axis=0)\n",
    "\n",
    "for i in range(len(y)):\n",
    "    if y[i][-1]=='M':\n",
    "        y[i]=float(y[i][:-1])*1000000\n",
    "    elif y[i][-1]=='B':\n",
    "        y[i]=float(y[i][:-1])*1000000000\n",
    "    elif y[i][-1]=='K':\n",
    "        y[i]=float(y[i][:-1])*1000\n",
    "    \n",
    "\n",
    "# print(x, y)\n",
    "# df_xy = pd.DataFrame(np.transpose([x,y]), columns=['날짜', '거래량'])\n",
    "# df_xy.to_csv(\"E:/1-2/아이디어/증권사별 비교를 통한 투자효과 극대화 방법/stock history data/나스닥100(1).csv\", index=False, encoding=\"cp949\")\n",
    "\n",
    "index_average=[]\n",
    "index_year=[]\n",
    "for j in range(2010, 2021):\n",
    "\n",
    "    index_date=[]\n",
    "    for i in range(len(x)):\n",
    "        if x[i].find(str(j))!=-1:\n",
    "            index_date.append(i)\n",
    "\n",
    "    sum_date = 0\n",
    "    average_date = 0\n",
    "    for i in index_date:\n",
    "        sum_date += y[i]\n",
    "        average_date = sum_date/len(index_date)\n",
    "\n",
    "    index_year.append(j)\n",
    "    index_average.append(average_date)\n",
    "\n",
    "print(index_year)\n",
    "print(index_average)\n",
    "\n",
    "plt.plot(index_year, index_average)\n",
    "plt.xticks(rotation=45)\n",
    "plt.show()"
   ]
  },
  {
   "cell_type": "code",
   "execution_count": 14,
   "metadata": {},
   "outputs": [
    {
     "name": "stdout",
     "output_type": "stream",
     "text": [
      "[2017, 2018, 2019, 2020]\n",
      "[17220000.0, 122966630.1369863, 303176301.36986303, 684506448.0874317]\n"
     ]
    },
    {
     "data": {
      "image/png": "[encoded data removed]",
      "text/plain": [
       "<Figure size 432x288 with 1 Axes>"
      ]
     },
     "metadata": {
      "needs_background": "light"
     },
     "output_type": "display_data"
    }
   ],
   "source": [
    "df = pd.read_csv('E:/1-2/아이디어/증권사별 비교를 통한 투자효과 극대화 방법/cryptocurrency data/Cardano 과거 데이터 - Investing.com.csv')\n",
    "x = df['날짜'].values\n",
    "y = df['거래량'].values\n",
    "index=[]\n",
    "\n",
    "for i in range(len(y)):\n",
    "    if y[i]=='-':\n",
    "        index.append(i)\n",
    "y=np.delete(y,index,axis=0)\n",
    "x=np.delete(x,index,axis=0)\n",
    "\n",
    "for i in range(len(y)):\n",
    "    if y[i][-1]=='M':\n",
    "        y[i]=float(y[i][:-1])*1000000\n",
    "    elif y[i][-1]=='B':\n",
    "        y[i]=float(y[i][:-1])*1000000000\n",
    "    elif y[i][-1]=='K':\n",
    "        y[i]=float(y[i][:-1])*1000\n",
    "    \n",
    "\n",
    "# print(x, y)\n",
    "# df_xy = pd.DataFrame(np.transpose([x,y]), columns=['날짜', '거래량'])\n",
    "# df_xy.to_csv(\"E:/1-2/아이디어/증권사별 비교를 통한 투자효과 극대화 방법/stock history data/나스닥100(1).csv\", index=False, encoding=\"cp949\")\n",
    "\n",
    "index_average=[]\n",
    "index_year=[]\n",
    "for j in range(2017, 2021):\n",
    "\n",
    "    index_date=[]\n",
    "    for i in range(len(x)):\n",
    "        if x[i].find(str(j))!=-1:\n",
    "            index_date.append(i)\n",
    "\n",
    "    sum_date = 0\n",
    "    average_date = 0\n",
    "    for i in index_date:\n",
    "        sum_date += y[i]\n",
    "        average_date = sum_date/len(index_date)\n",
    "\n",
    "    index_year.append(j)\n",
    "    index_average.append(average_date)\n",
    "\n",
    "print(index_year)\n",
    "print(index_average)\n",
    "\n",
    "plt.plot(index_year, index_average)\n",
    "plt.xticks(rotation=45)\n",
    "plt.show()"
   ]
  },
  {
   "cell_type": "code",
   "execution_count": 15,
   "metadata": {},
   "outputs": [
    {
     "name": "stdout",
     "output_type": "stream",
     "text": [
      "[2016, 2017, 2018, 2019, 2020]\n",
      "[224935.6551724138, 619919.065934066, 4572366.273972603, 10093041.09589041, 14145628.415300546]\n"
     ]
    },
    {
     "data": {
      "image/png": "[encoded data removed]",
      "text/plain": [
       "<Figure size 432x288 with 1 Axes>"
      ]
     },
     "metadata": {
      "needs_background": "light"
     },
     "output_type": "display_data"
    }
   ],
   "source": [
    "df = pd.read_csv('E:/1-2/아이디어/증권사별 비교를 통한 투자효과 극대화 방법/cryptocurrency data/Ethereum - 이더리움 과거 데이터 - Investing.com.csv')\n",
    "x = df['날짜'].values\n",
    "y = df['거래량'].values\n",
    "index=[]\n",
    "\n",
    "for i in range(len(y)):\n",
    "    if y[i]=='-':\n",
    "        index.append(i)\n",
    "y=np.delete(y,index,axis=0)\n",
    "x=np.delete(x,index,axis=0)\n",
    "\n",
    "for i in range(len(y)):\n",
    "    if y[i][-1]=='M':\n",
    "        y[i]=float(y[i][:-1])*1000000\n",
    "    elif y[i][-1]=='B':\n",
    "        y[i]=float(y[i][:-1])*1000000000\n",
    "    elif y[i][-1]=='K':\n",
    "        y[i]=float(y[i][:-1])*1000\n",
    "    \n",
    "\n",
    "# print(x, y)\n",
    "# df_xy = pd.DataFrame(np.transpose([x,y]), columns=['날짜', '거래량'])\n",
    "# df_xy.to_csv(\"E:/1-2/아이디어/증권사별 비교를 통한 투자효과 극대화 방법/stock history data/나스닥100(1).csv\", index=False, encoding=\"cp949\")\n",
    "\n",
    "index_average=[]\n",
    "index_year=[]\n",
    "for j in range(2016, 2021):\n",
    "\n",
    "    index_date=[]\n",
    "    for i in range(len(x)):\n",
    "        if x[i].find(str(j))!=-1:\n",
    "            index_date.append(i)\n",
    "\n",
    "    sum_date = 0\n",
    "    average_date = 0\n",
    "    for i in index_date:\n",
    "        sum_date += y[i]\n",
    "        average_date = sum_date/len(index_date)\n",
    "\n",
    "    index_year.append(j)\n",
    "    index_average.append(average_date)\n",
    "\n",
    "print(index_year)\n",
    "print(index_average)\n",
    "\n",
    "plt.plot(index_year, index_average)\n",
    "plt.xticks(rotation=45)\n",
    "plt.show()"
   ]
  },
  {
   "cell_type": "code",
   "execution_count": 16,
   "metadata": {},
   "outputs": [
    {
     "name": "stdout",
     "output_type": "stream",
     "text": [
      "['2021년 10월 26일' '2021년 10월 25일' '2021년 10월 24일' ... '2015년 02월 01일'\n",
      " '2015년 01월 31일' '2015년 01월 30일'] [366140000.0 302260000.0 315370000.0 ... 100.0 1220.0 1020.0]\n",
      "[2015, 2016, 2017, 2018, 2019, 2020]\n",
      "[9560.952380952382, 442878.4210526316, 82681986.46575342, 246694957.50708216, 1227375753.4246576, 2061389180.327869]\n"
     ]
    },
    {
     "data": {
      "image/png": "[encoded data removed]",
      "text/plain": [
       "<Figure size 432x288 with 1 Axes>"
      ]
     },
     "metadata": {
      "needs_background": "light"
     },
     "output_type": "display_data"
    }
   ],
   "source": [
    "df = pd.read_csv('E:/1-2/아이디어/증권사별 비교를 통한 투자효과 극대화 방법/cryptocurrency data/XRP 과거 데이터 - Investing.com.csv')\n",
    "x = df['날짜'].values\n",
    "y = df['거래량'].values\n",
    "index=[]\n",
    "\n",
    "for i in range(len(y)):\n",
    "    if y[i]=='-':\n",
    "        index.append(i)\n",
    "y=np.delete(y,index,axis=0)\n",
    "x=np.delete(x,index,axis=0)\n",
    "\n",
    "for i in range(len(y)):\n",
    "    if y[i][-1]=='M':\n",
    "        y[i]=float(y[i][:-1])*1000000\n",
    "    elif y[i][-1]=='B':\n",
    "        y[i]=float(y[i][:-1])*1000000000\n",
    "    elif y[i][-1]=='K':\n",
    "        y[i]=float(y[i][:-1])*1000\n",
    "    \n",
    "\n",
    "print(x, y)\n",
    "# df_xy = pd.DataFrame(np.transpose([x,y]), columns=['날짜', '거래량'])\n",
    "# df_xy.to_csv(\"E:/1-2/아이디어/증권사별 비교를 통한 투자효과 극대화 방법/stock history data/나스닥100(1).csv\", index=False, encoding=\"cp949\")\n",
    "\n",
    "index_average=[]\n",
    "index_year=[]\n",
    "for j in range(2015, 2021):\n",
    "\n",
    "    index_date=[]\n",
    "    for i in range(len(x)):\n",
    "        if x[i].find(str(j))!=-1:\n",
    "            index_date.append(i)\n",
    "\n",
    "    sum_date = 0\n",
    "    average_date = 0\n",
    "    for i in index_date:\n",
    "        sum_date += y[i]\n",
    "        average_date = sum_date/len(index_date)\n",
    "\n",
    "    index_year.append(j)\n",
    "    index_average.append(average_date)\n",
    "\n",
    "print(index_year)\n",
    "print(index_average)\n",
    "\n",
    "plt.plot(index_year, index_average)\n",
    "plt.xticks(rotation=45)\n",
    "plt.show()"
   ]
  }
 ],
 "metadata": {
  "interpreter": {
   "hash": "247ab06e135bb35fa78c5eff31b2a9a0050dcb5fb773c2631d2a29ac689eeccb"
  },
  "kernelspec": {
   "display_name": "Python 3.9.5 64-bit",
   "name": "python3"
  },
  "language_info": {
   "codemirror_mode": {
    "name": "ipython",
    "version": 3
   },
   "file_extension": ".py",
   "mimetype": "text/x-python",
   "name": "python",
   "nbconvert_exporter": "python",
   "pygments_lexer": "ipython3",
   "version": "3.9.5"
  },
  "orig_nbformat": 4
 },
 "nbformat": 4,
 "nbformat_minor": 2
}
