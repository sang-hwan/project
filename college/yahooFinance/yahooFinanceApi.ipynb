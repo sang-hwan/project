{
 "metadata": {
  "language_info": {
   "codemirror_mode": {
    "name": "ipython",
    "version": 3
   },
   "file_extension": ".py",
   "mimetype": "text/x-python",
   "name": "python",
   "nbconvert_exporter": "python",
   "pygments_lexer": "ipython3",
   "version": "3.9.5"
  },
  "orig_nbformat": 4,
  "kernelspec": {
   "name": "python3",
   "display_name": "Python 3.9.5 64-bit"
  },
  "interpreter": {
   "hash": "247ab06e135bb35fa78c5eff31b2a9a0050dcb5fb773c2631d2a29ac689eeccb"
  }
 },
 "nbformat": 4,
 "nbformat_minor": 2,
 "cells": [
  {
   "cell_type": "code",
   "execution_count": 6,
   "source": [
    "pip install yfinance --upgrade --no-cache-dir"
   ],
   "outputs": [
    {
     "output_type": "stream",
     "name": "stdout",
     "text": [
      "Collecting yfinance\n",
      "  Downloading yfinance-0.1.63.tar.gz (26 kB)\n",
      "Collecting pandas>=0.24\n",
      "  Downloading pandas-1.3.3-cp39-cp39-win_amd64.whl (10.2 MB)\n",
      "Collecting numpy>=1.15\n",
      "  Downloading numpy-1.21.2-cp39-cp39-win_amd64.whl (14.0 MB)\n",
      "Collecting requests>=2.20\n",
      "  Downloading requests-2.26.0-py2.py3-none-any.whl (62 kB)\n",
      "Collecting multitasking>=0.0.7\n",
      "  Downloading multitasking-0.0.9.tar.gz (8.1 kB)\n",
      "Collecting lxml>=4.5.1\n",
      "  Downloading lxml-4.6.3-cp39-cp39-win_amd64.whl (3.5 MB)\n",
      "Requirement already satisfied: python-dateutil>=2.7.3 in c:\\users\\user\\appdata\\local\\programs\\python\\python39\\lib\\site-packages (from pandas>=0.24->yfinance) (2.8.2)\n",
      "Collecting pytz>=2017.3\n",
      "  Downloading pytz-2021.1-py2.py3-none-any.whl (510 kB)\n",
      "Requirement already satisfied: six>=1.5 in c:\\users\\user\\appdata\\local\\programs\\python\\python39\\lib\\site-packages (from python-dateutil>=2.7.3->pandas>=0.24->yfinance) (1.16.0)\n",
      "Collecting charset-normalizer~=2.0.0\n",
      "  Downloading charset_normalizer-2.0.6-py3-none-any.whl (37 kB)\n",
      "Collecting urllib3<1.27,>=1.21.1\n",
      "  Downloading urllib3-1.26.7-py2.py3-none-any.whl (138 kB)\n",
      "Collecting certifi>=2017.4.17\n",
      "  Downloading certifi-2021.5.30-py2.py3-none-any.whl (145 kB)\n",
      "Collecting idna<4,>=2.5\n",
      "  Downloading idna-3.2-py3-none-any.whl (59 kB)\n",
      "Using legacy 'setup.py install' for yfinance, since package 'wheel' is not installed.\n",
      "Using legacy 'setup.py install' for multitasking, since package 'wheel' is not installed.\n",
      "Installing collected packages: urllib3, pytz, numpy, idna, charset-normalizer, certifi, requests, pandas, multitasking, lxml, yfinance\n",
      "    Running setup.py install for multitasking: started\n",
      "    Running setup.py install for multitasking: finished with status 'done'\n",
      "    Running setup.py install for yfinance: started\n",
      "    Running setup.py install for yfinance: finished with status 'done'\n",
      "Successfully installed certifi-2021.5.30 charset-normalizer-2.0.6 idna-3.2 lxml-4.6.3 multitasking-0.0.9 numpy-1.21.2 pandas-1.3.3 pytz-2021.1 requests-2.26.0 urllib3-1.26.7 yfinance-0.1.63\n",
      "Note: you may need to restart the kernel to use updated packages.\n",
      "  WARNING: The script f2py.exe is installed in 'C:\\Users\\user\\AppData\\Local\\Programs\\Python\\Python39\\Scripts' which is not on PATH.\n",
      "  Consider adding this directory to PATH or, if you prefer to suppress this warning, use --no-warn-script-location.\n",
      "  WARNING: The script normalizer.exe is installed in 'C:\\Users\\user\\AppData\\Local\\Programs\\Python\\Python39\\Scripts' which is not on PATH.\n",
      "  Consider adding this directory to PATH or, if you prefer to suppress this warning, use --no-warn-script-location.\n",
      "WARNING: You are using pip version 21.1.1; however, version 21.2.4 is available.\n",
      "You should consider upgrading via the 'C:\\Users\\user\\AppData\\Local\\Programs\\Python\\Python39\\python.exe -m pip install --upgrade pip' command.\n"
     ]
    }
   ],
   "metadata": {}
  },
  {
   "cell_type": "code",
   "execution_count": 10,
   "source": [
    "import yfinance as yf\r\n",
    "import pandas as pd\r\n",
    "# msft = yf.Ticker(\"MSFT\")\r\n",
    "aapl = yf.Ticker(\"AAPL\")\r\n",
    "fb = yf.Ticker(\"FB\")\r\n",
    "nvda = yf.Ticker(\"NVDA\")\r\n",
    "tsla = yf.Ticker(\"TSLA\")\r\n",
    "mrna = yf.Ticker(\"MRNA\")\r\n",
    "sbux = yf.Ticker(\"SBUX\")\r\n",
    "googl = yf.Ticker(\"GOOGL\")\r\n",
    "hist1 = aapl.history(period=\"max\")\r\n",
    "hist2 = fb.history(period=\"max\")\r\n",
    "hist3 = nvda.history(period=\"max\")\r\n",
    "hist4 = tsla.history(period=\"max\")\r\n",
    "hist5 = mrna.history(period=\"max\")\r\n",
    "hist6 = sbux.history(period=\"max\")\r\n",
    "hist7 = googl.history(period=\"max\")\r\n",
    "df1=pd.DataFrame(hist1)\r\n",
    "df2=pd.DataFrame(hist2)\r\n",
    "df3=pd.DataFrame(hist3)\r\n",
    "df4=pd.DataFrame(hist4)\r\n",
    "df5=pd.DataFrame(hist5)\r\n",
    "df6=pd.DataFrame(hist6)\r\n",
    "df7=pd.DataFrame(hist7)"
   ],
   "outputs": [],
   "metadata": {}
  },
  {
   "cell_type": "code",
   "execution_count": 11,
   "source": [
    "df1.to_csv(\"C:/Users/user/Desktop/j_user/1-2/아이디어/증권사별 비교를 통한 투자효과 극대화 방법/stock history data/AAPL.csv\")\r\n",
    "df2.to_csv(\"C:/Users/user/Desktop/j_user/1-2/아이디어/증권사별 비교를 통한 투자효과 극대화 방법/stock history data/FB.csv\")\r\n",
    "df3.to_csv(\"C:/Users/user/Desktop/j_user/1-2/아이디어/증권사별 비교를 통한 투자효과 극대화 방법/stock history data/NVDA.csv\")\r\n",
    "df4.to_csv(\"C:/Users/user/Desktop/j_user/1-2/아이디어/증권사별 비교를 통한 투자효과 극대화 방법/stock history data/TSLA.csv\")\r\n",
    "df5.to_csv(\"C:/Users/user/Desktop/j_user/1-2/아이디어/증권사별 비교를 통한 투자효과 극대화 방법/stock history data/MRNA.csv\")\r\n",
    "df6.to_csv(\"C:/Users/user/Desktop/j_user/1-2/아이디어/증권사별 비교를 통한 투자효과 극대화 방법/stock history data/SBUX.csv\")\r\n",
    "df7.to_csv(\"C:/Users/user/Desktop/j_user/1-2/아이디어/증권사별 비교를 통한 투자효과 극대화 방법/stock history data/GOOGL.csv\")"
   ],
   "outputs": [],
   "metadata": {}
  },
  {
   "cell_type": "code",
   "execution_count": null,
   "source": [],
   "outputs": [],
   "metadata": {}
  }
 ]
}