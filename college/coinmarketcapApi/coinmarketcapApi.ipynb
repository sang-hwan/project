{
 "cells": [
  {
   "cell_type": "code",
   "execution_count": null,
   "source": [
    "#This example uses Python 2.7 and the python-request library.\r\n",
    "\r\n",
    "from requests import Request, Session\r\n",
    "from requests.exceptions import ConnectionError, Timeout, TooManyRedirects\r\n",
    "import json\r\n",
    "\r\n",
    "url = 'https://pro-api.coinmarketcap.com/v1/cryptocurrency/listings/historical'\r\n",
    "parameters = {\r\n",
    "  'slug':\"bitcoin\",\r\n",
    "  'start':'1',\r\n",
    "  'limit':'5000',\r\n",
    "  'convert':'USD'\r\n",
    "}\r\n",
    "headers = {\r\n",
    "  'Accepts': 'application/json',\r\n",
    "  'X-CMC_PRO_API_KEY': 'f942dd51-bfd5-4c13-be4e-dbeffef739c9',\r\n",
    "}\r\n",
    "\r\n",
    "session = Session()\r\n",
    "session.headers.update(headers)\r\n",
    "\r\n",
    "try:\r\n",
    "  response = session.get(url, params=parameters)\r\n",
    "  data = json.loads(response.text)\r\n",
    "  print(data)\r\n",
    "except (ConnectionError, Timeout, TooManyRedirects) as e:\r\n",
    "  print(e)\r\n",
    "  "
   ],
   "outputs": [],
   "metadata": {}
  }
 ],
 "metadata": {
  "orig_nbformat": 4,
  "language_info": {
   "name": "python"
  }
 },
 "nbformat": 4,
 "nbformat_minor": 2
}